{
 "cells": [
  {
   "cell_type": "markdown",
   "metadata": {},
   "source": [
    "# Chapter 8 - Accounting for seasonanlity"
   ]
  },
  {
   "cell_type": "code",
   "execution_count": null,
   "metadata": {},
   "outputs": [],
   "source": [
    "import numpy as np\n",
    "import matplotlib.pyplot as plt\n",
    "import matplotlib.dates as mdates\n",
    "import matplotlib as mpl\n",
    "import pandas as pd\n",
    "import itertools as itertls\n",
    "\n",
    "from tqdm import notebook\n",
    "from typing import Union\n",
    "\n",
    "from statsmodels.graphics.tsaplots import plot_acf, plot_pacf\n",
    "from statsmodels.graphics.gofplots import qqplot\n",
    "from statsmodels.stats.diagnostic import acorr_ljungbox\n",
    "from statsmodels.tsa.stattools import adfuller\n",
    "from statsmodels.tsa.statespace.sarimax import SARIMAX\n",
    "from statsmodels.tsa.arima_process import ArmaProcess\n",
    "\n",
    "from sklearn.metrics import mean_squared_error, mean_absolute_error, \\\n",
    "                            mean_absolute_percentage_error\n"
   ]
  },
  {
   "cell_type": "code",
   "execution_count": null,
   "metadata": {},
   "outputs": [],
   "source": [
    "plt.rcParams.update(plt.rcParamsDefault)\n",
    "plt.rcParams.update({\n",
    "  \"font.size\": 16,\n",
    "  \"grid.alpha\": 0.25})"
   ]
  },
  {
   "cell_type": "markdown",
   "metadata": {},
   "source": [
    "**Function declarations**"
   ]
  },
  {
   "cell_type": "code",
   "execution_count": null,
   "metadata": {},
   "outputs": [],
   "source": [
    "def plot_time_series(x, y, xlabel=\"Time\", ylabel=\"Value\", figsize=(10, 4), \n",
    "                     use_date_locator=True, title=None):\n",
    "  fig, ax = plt.subplots(figsize=figsize)\n",
    "\n",
    "  ax.plot(x, y)\n",
    "\n",
    "  if use_date_locator:\n",
    "    formatter = mdates.DateFormatter(\"%Y\")\n",
    "    # formatter = mdates.DateFormatter(\"%Y-%b\")\n",
    "    locator = mdates.YearLocator(base=2)\n",
    "    # locator = mdates.MonthLocator(bymonthday=1, bymonth=range(1, 13, 2))\n",
    "    ax.xaxis.set_major_formatter(formatter)\n",
    "    ax.xaxis.set_major_locator(locator)\n",
    "  \n",
    "\n",
    "  ax.grid(\"on\")\n",
    "  ax.set_xlabel(xlabel)\n",
    "  ax.set_ylabel(ylabel)\n",
    "\n",
    "  if title is not None:\n",
    "    ax.set_title(title)\n",
    "\n",
    "  if use_date_locator:\n",
    "    for j, label in enumerate(ax.get_xticklabels()):\n",
    "      label.set_rotation(40)\n",
    "      label.set_horizontalalignment('right')\n",
    "\n",
    "  plt.show(fig)"
   ]
  }
 ],
 "metadata": {
  "kernelspec": {
   "display_name": "base",
   "language": "python",
   "name": "python3"
  },
  "language_info": {
   "name": "python",
   "version": "3.11.4"
  },
  "orig_nbformat": 4
 },
 "nbformat": 4,
 "nbformat_minor": 2
}
